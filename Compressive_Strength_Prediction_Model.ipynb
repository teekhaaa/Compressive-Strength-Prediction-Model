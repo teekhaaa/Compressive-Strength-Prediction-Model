{
 "cells": [
  {
   "cell_type": "code",
   "execution_count": 2,
   "id": "9a81e90e-ea3c-4d35-888e-8a7692a05443",
   "metadata": {},
   "outputs": [
    {
     "name": "stdout",
     "output_type": "stream",
     "text": [
      "Predicted Compressive Strength: [49.6065]\n"
     ]
    },
    {
     "name": "stderr",
     "output_type": "stream",
     "text": [
      "C:\\Users\\shubh\\anaconda3\\Lib\\site-packages\\sklearn\\base.py:439: UserWarning: X does not have valid feature names, but RandomForestRegressor was fitted with feature names\n",
      "  warnings.warn(\n"
     ]
    }
   ],
   "source": [
    "import numpy as np\n",
    "import joblib\n",
    "\n",
    "# Given new data\n",
    "new_data = np.array([[300, 120, 200, 0, 160, 6, 970, 25]])\n",
    "\n",
    "# Load the trained model (make sure the file path is correct)\n",
    "loaded_model = joblib.load('concrete_strength_model.pkl')\n",
    "\n",
    "# Predict compressive strength\n",
    "predicted_strength = loaded_model.predict(new_data)\n",
    "print(\"Predicted Compressive Strength:\", predicted_strength)\n"
   ]
  },
  {
   "cell_type": "code",
   "execution_count": 3,
   "id": "08182734-c464-44a6-becd-becaa975a933",
   "metadata": {},
   "outputs": [],
   "source": [
    "import pandas as pd"
   ]
  },
  {
   "cell_type": "code",
   "execution_count": 8,
   "id": "29accd81-e48f-4ac5-9547-4ee0288bed80",
   "metadata": {},
   "outputs": [
    {
     "data": {
      "text/html": [
       "<div>\n",
       "<style scoped>\n",
       "    .dataframe tbody tr th:only-of-type {\n",
       "        vertical-align: middle;\n",
       "    }\n",
       "\n",
       "    .dataframe tbody tr th {\n",
       "        vertical-align: top;\n",
       "    }\n",
       "\n",
       "    .dataframe thead th {\n",
       "        text-align: right;\n",
       "    }\n",
       "</style>\n",
       "<table border=\"1\" class=\"dataframe\">\n",
       "  <thead>\n",
       "    <tr style=\"text-align: right;\">\n",
       "      <th></th>\n",
       "      <th>cement</th>\n",
       "      <th>slag</th>\n",
       "      <th>flyash</th>\n",
       "      <th>water</th>\n",
       "      <th>superplasticizer</th>\n",
       "      <th>coarseaggregate</th>\n",
       "      <th>fineaggregate</th>\n",
       "      <th>age</th>\n",
       "      <th>csMPa</th>\n",
       "    </tr>\n",
       "  </thead>\n",
       "  <tbody>\n",
       "    <tr>\n",
       "      <th>950</th>\n",
       "      <td>326.5</td>\n",
       "      <td>0.0</td>\n",
       "      <td>137.9</td>\n",
       "      <td>199.0</td>\n",
       "      <td>10.8</td>\n",
       "      <td>801.1</td>\n",
       "      <td>792.5</td>\n",
       "      <td>28</td>\n",
       "      <td>38.63</td>\n",
       "    </tr>\n",
       "    <tr>\n",
       "      <th>835</th>\n",
       "      <td>144.0</td>\n",
       "      <td>0.0</td>\n",
       "      <td>175.0</td>\n",
       "      <td>158.0</td>\n",
       "      <td>18.0</td>\n",
       "      <td>943.0</td>\n",
       "      <td>844.0</td>\n",
       "      <td>28</td>\n",
       "      <td>15.42</td>\n",
       "    </tr>\n",
       "    <tr>\n",
       "      <th>894</th>\n",
       "      <td>143.0</td>\n",
       "      <td>169.0</td>\n",
       "      <td>143.0</td>\n",
       "      <td>191.0</td>\n",
       "      <td>8.0</td>\n",
       "      <td>967.0</td>\n",
       "      <td>643.0</td>\n",
       "      <td>28</td>\n",
       "      <td>29.72</td>\n",
       "    </tr>\n",
       "    <tr>\n",
       "      <th>760</th>\n",
       "      <td>350.0</td>\n",
       "      <td>0.0</td>\n",
       "      <td>0.0</td>\n",
       "      <td>203.0</td>\n",
       "      <td>0.0</td>\n",
       "      <td>974.0</td>\n",
       "      <td>775.0</td>\n",
       "      <td>56</td>\n",
       "      <td>29.98</td>\n",
       "    </tr>\n",
       "    <tr>\n",
       "      <th>62</th>\n",
       "      <td>310.0</td>\n",
       "      <td>0.0</td>\n",
       "      <td>0.0</td>\n",
       "      <td>192.0</td>\n",
       "      <td>0.0</td>\n",
       "      <td>971.0</td>\n",
       "      <td>850.6</td>\n",
       "      <td>3</td>\n",
       "      <td>9.87</td>\n",
       "    </tr>\n",
       "    <tr>\n",
       "      <th>914</th>\n",
       "      <td>313.0</td>\n",
       "      <td>145.0</td>\n",
       "      <td>0.0</td>\n",
       "      <td>178.0</td>\n",
       "      <td>8.0</td>\n",
       "      <td>1002.0</td>\n",
       "      <td>689.0</td>\n",
       "      <td>28</td>\n",
       "      <td>41.05</td>\n",
       "    </tr>\n",
       "    <tr>\n",
       "      <th>874</th>\n",
       "      <td>313.0</td>\n",
       "      <td>0.0</td>\n",
       "      <td>113.0</td>\n",
       "      <td>178.0</td>\n",
       "      <td>8.0</td>\n",
       "      <td>1002.0</td>\n",
       "      <td>689.0</td>\n",
       "      <td>28</td>\n",
       "      <td>36.80</td>\n",
       "    </tr>\n",
       "    <tr>\n",
       "      <th>66</th>\n",
       "      <td>139.6</td>\n",
       "      <td>209.4</td>\n",
       "      <td>0.0</td>\n",
       "      <td>192.0</td>\n",
       "      <td>0.0</td>\n",
       "      <td>1047.0</td>\n",
       "      <td>806.9</td>\n",
       "      <td>360</td>\n",
       "      <td>44.70</td>\n",
       "    </tr>\n",
       "    <tr>\n",
       "      <th>289</th>\n",
       "      <td>182.0</td>\n",
       "      <td>45.2</td>\n",
       "      <td>122.0</td>\n",
       "      <td>170.2</td>\n",
       "      <td>8.2</td>\n",
       "      <td>1059.4</td>\n",
       "      <td>780.7</td>\n",
       "      <td>3</td>\n",
       "      <td>7.32</td>\n",
       "    </tr>\n",
       "    <tr>\n",
       "      <th>662</th>\n",
       "      <td>157.0</td>\n",
       "      <td>236.0</td>\n",
       "      <td>0.0</td>\n",
       "      <td>192.0</td>\n",
       "      <td>0.0</td>\n",
       "      <td>935.4</td>\n",
       "      <td>781.2</td>\n",
       "      <td>28</td>\n",
       "      <td>33.66</td>\n",
       "    </tr>\n",
       "  </tbody>\n",
       "</table>\n",
       "</div>"
      ],
      "text/plain": [
       "     cement   slag  flyash  water  superplasticizer  coarseaggregate  \\\n",
       "950   326.5    0.0   137.9  199.0              10.8            801.1   \n",
       "835   144.0    0.0   175.0  158.0              18.0            943.0   \n",
       "894   143.0  169.0   143.0  191.0               8.0            967.0   \n",
       "760   350.0    0.0     0.0  203.0               0.0            974.0   \n",
       "62    310.0    0.0     0.0  192.0               0.0            971.0   \n",
       "914   313.0  145.0     0.0  178.0               8.0           1002.0   \n",
       "874   313.0    0.0   113.0  178.0               8.0           1002.0   \n",
       "66    139.6  209.4     0.0  192.0               0.0           1047.0   \n",
       "289   182.0   45.2   122.0  170.2               8.2           1059.4   \n",
       "662   157.0  236.0     0.0  192.0               0.0            935.4   \n",
       "\n",
       "     fineaggregate  age  csMPa  \n",
       "950          792.5   28  38.63  \n",
       "835          844.0   28  15.42  \n",
       "894          643.0   28  29.72  \n",
       "760          775.0   56  29.98  \n",
       "62           850.6    3   9.87  \n",
       "914          689.0   28  41.05  \n",
       "874          689.0   28  36.80  \n",
       "66           806.9  360  44.70  \n",
       "289          780.7    3   7.32  \n",
       "662          781.2   28  33.66  "
      ]
     },
     "execution_count": 8,
     "metadata": {},
     "output_type": "execute_result"
    }
   ],
   "source": [
    "df = pd.read_csv(\"Concrete_Data.csv\")\n",
    "df.sample(10)"
   ]
  },
  {
   "cell_type": "code",
   "execution_count": 10,
   "id": "cc7a6005-5c2f-4e53-8e33-fb9bdd73e893",
   "metadata": {},
   "outputs": [],
   "source": [
    "new_data1 = np.array([[326.5, 0.0, 137.9, 199.0, 10.8, 801.1, 792.5, 28]])"
   ]
  },
  {
   "cell_type": "code",
   "execution_count": 14,
   "id": "0e389f7d-50c3-48b0-9ad5-ed9a6125a07b",
   "metadata": {},
   "outputs": [
    {
     "name": "stdout",
     "output_type": "stream",
     "text": [
      "Predicted Compressive Strength: [38.877]\n"
     ]
    },
    {
     "name": "stderr",
     "output_type": "stream",
     "text": [
      "C:\\Users\\shubh\\anaconda3\\Lib\\site-packages\\sklearn\\base.py:439: UserWarning: X does not have valid feature names, but RandomForestRegressor was fitted with feature names\n",
      "  warnings.warn(\n"
     ]
    }
   ],
   "source": [
    "predicted_strength = loaded_model.predict(new_data1)\n",
    "print(\"Predicted Compressive Strength:\", predicted_strength)"
   ]
  },
  {
   "cell_type": "code",
   "execution_count": null,
   "id": "a4f0468d-b833-4a27-8bb6-d913390b05ea",
   "metadata": {},
   "outputs": [],
   "source": []
  }
 ],
 "metadata": {
  "kernelspec": {
   "display_name": "Python 3 (ipykernel)",
   "language": "python",
   "name": "python3"
  },
  "language_info": {
   "codemirror_mode": {
    "name": "ipython",
    "version": 3
   },
   "file_extension": ".py",
   "mimetype": "text/x-python",
   "name": "python",
   "nbconvert_exporter": "python",
   "pygments_lexer": "ipython3",
   "version": "3.11.7"
  }
 },
 "nbformat": 4,
 "nbformat_minor": 5
}
